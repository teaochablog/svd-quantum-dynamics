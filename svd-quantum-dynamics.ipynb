{
 "cells": [
  {
   "cell_type": "code",
   "execution_count": null,
   "id": "518647c4-b7b7-4be5-bf4d-1de9a3fc98de",
   "metadata": {
    "tags": [
     "no_render"
    ]
   },
   "outputs": [],
   "source": [
    "%matplotlib inline\n",
    "\n",
    "import sys, os\n",
    "_utils_dir = os.path.join(os.path.abspath('.'), 'utils')\n",
    "if _utils_dir not in sys.path:\n",
    "    sys.path.insert(0, _utils_dir)"
   ]
  },
  {
   "cell_type": "code",
   "execution_count": null,
   "id": "72f0f84d-8986-4510-a11a-62149d555ab7",
   "metadata": {},
   "outputs": [],
   "source": [
    "import numpy as np\n",
    "import matplotlib.pyplot as plt\n",
    "\n",
    "# Personal utils to remove cognitive clutter.\n",
    "# (See 'https://github.com/teaochablog/svd-quantum-dynamics/utils')\n",
    "import blogutils\n",
    "blogutils.init_mpl(plt)"
   ]
  }
 ],
 "metadata": {
  "citation-manager": {
   "items": {}
  },
  "kernelspec": {
   "display_name": "Python 3.9.10 64-bit",
   "language": "python",
   "name": "python3"
  },
  "language_info": {
   "codemirror_mode": {
    "name": "ipython",
    "version": 3
   },
   "file_extension": ".py",
   "mimetype": "text/x-python",
   "name": "python",
   "nbconvert_exporter": "python",
   "pygments_lexer": "ipython3",
   "version": "3.9.10"
  },
  "vscode": {
   "interpreter": {
    "hash": "aee8b7b246df8f9039afb4144a1f6fd8d2ca17a180786b69acc140d282b71a49"
   }
  }
 },
 "nbformat": 4,
 "nbformat_minor": 5
}
